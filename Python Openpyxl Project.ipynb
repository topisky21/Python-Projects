{
 "cells": [
  {
   "cell_type": "code",
   "execution_count": 4,
   "id": "66e15031-8b18-47ff-ae29-a3ae5b39af0b",
   "metadata": {},
   "outputs": [
    {
     "name": "stdout",
     "output_type": "stream",
     "text": [
      "['Item_Info', 'Inventory_Levels', 'Orders_Info']\n"
     ]
    }
   ],
   "source": [
    "import openpyxl as xl\n",
    "from functions import tax_calculator \n",
    "filename= r\"C:\\Users\\abiol\\Commercial_Shopping_data.xlsx\"\n",
    "wb=xl.load_workbook(filename= filename)\n",
    "items=wb['Item_Info']\n",
    "Inventory=wb['Inventory_Levels']\n",
    "Orders=wb['Orders_Info']\n",
    "print(wb.sheetnames)"
   ]
  },
  {
   "cell_type": "code",
   "execution_count": 33,
   "id": "f90b0140-f3f8-467a-b8d5-44b2cf7f4956",
   "metadata": {},
   "outputs": [],
   "source": [
    "for i in range(2, Orders.max_row):\n",
    "    subtotal = Orders[f\"D{i}\"].value\n",
    "    location = Orders[f\"G{i}\"].value\n",
    "    if location == \"Sun Valley\":\n",
    "        transaction = tax_calculator(subtotal, 0.08)\n",
    "    elif location == \"Mammoth\":\n",
    "        transaction = tax_calculator(subtotal, 0.0775)\n",
    "    else:\n",
    "        transaction = tax_calculator(subtotal, 0.06)\n",
    "\n",
    "    Orders[f\"E{i}\"].value= transaction[1]\n",
    "    Orders[f\"F{i}\"].value= transaction[2]\n",
    "wb.save(filename)\n",
    "    \n"
   ]
  },
  {
   "cell_type": "raw",
   "id": "f2e8b47e-e9f5-4410-bbea-74ddb9b7dfa9",
   "metadata": {},
   "source": [
    "tax_calculator(20, 0.08)"
   ]
  },
  {
   "cell_type": "code",
   "execution_count": 27,
   "id": "96a19c13-2000-4be0-826e-370118b8c5fa",
   "metadata": {},
   "outputs": [
    {
     "name": "stdout",
     "output_type": "stream",
     "text": [
      "High Stock\n",
      "medium stock\n",
      "medium stock\n",
      "medium stock\n",
      "medium stock\n",
      "medium stock\n",
      "low stock\n",
      "low stock\n",
      "low stock\n",
      "low stock\n",
      "low stock\n",
      "low stock\n"
     ]
    }
   ],
   "source": [
    "Inventory[\"C1\"]=\"Stock_Status\" \n",
    "for i in range(2, Inventory.max_row+1):\n",
    "    quantity= Inventory[f\"B{i}\"].value\n",
    "    if quantity> 25:\n",
    "         Inventory[f\"C{i}\"]=\"High Stock\"\n",
    "    elif quantity> 5:\n",
    "         Inventory[f\"C{i}\"]=\"medium stock\"\n",
    "    else:\n",
    "         Inventory[f\"C{i}\"]=\"low stock\"\n",
    "    print(Inventory[f\"C{i}\"].value)\n",
    "wb.save(filename)"
   ]
  },
  {
   "cell_type": "code",
   "execution_count": 51,
   "id": "5dbb0f97-fb16-4e85-9239-d50f0d193973",
   "metadata": {},
   "outputs": [],
   "source": [
    "from openpyxl import load_workbook\n",
    "\n",
    "# Load workbook and select sheet\n",
    "wb = load_workbook(filename)\n",
    "items = wb.active  # or wb[\"SheetName\"] if you know it\n",
    "items[f\"F1\"].value = \"Profit\"\n",
    "# Loop through rows starting from 2 to the last used row\n",
    "for i in range(2, items.max_row + 1):  # Changed from max_row - 1 to max_row + 1\n",
    "    price = items[f\"C{i}\"].value\n",
    "    cost = items[f\"D{i}\"].value\n",
    "    profit=items[f\"F{i}\"].value\n",
    "    # Ensure both values are numbers\n",
    "    profit = price - cost\n",
    "    \n",
    "wb.save(filename)\n"
   ]
  },
  {
   "cell_type": "code",
   "execution_count": 54,
   "id": "c5a02224-5ff2-4ec8-be83-d8891093d6d4",
   "metadata": {},
   "outputs": [
    {
     "data": {
      "text/plain": [
       "array([  0. ,  12.5,  25. ,  37.5,  50. ,  62.5,  75. ,  87.5, 100. ])"
      ]
     },
     "execution_count": 54,
     "metadata": {},
     "output_type": "execute_result"
    }
   ],
   "source": [
    "import numpy as np\n",
    "np.linspace(0, 100, 9)"
   ]
  },
  {
   "cell_type": "code",
   "execution_count": 67,
   "id": "5c632140-60b1-4dd7-98e3-f1dd1d8744e3",
   "metadata": {},
   "outputs": [
    {
     "name": "stdout",
     "output_type": "stream",
     "text": [
      "[0.22733602 0.31675834 0.79736546 0.67625467 0.39110955 0.33281393\n",
      " 0.59830875 0.18673419 0.67275604 0.94180287]\n"
     ]
    }
   ],
   "source": [
    "import numpy as np\n",
    "from numpy.random import default_rng\n",
    "\n",
    "rng = default_rng(12345)\n",
    "random_array= rng.random(10)\n",
    "\n",
    "new_array = random_array\n",
    "\n",
    "print(new_array)"
   ]
  },
  {
   "cell_type": "code",
   "execution_count": 80,
   "id": "1aa9a7d5-b255-4de7-8e0f-6dcc864ff5ab",
   "metadata": {},
   "outputs": [
    {
     "name": "stdout",
     "output_type": "stream",
     "text": [
      "5.7\n"
     ]
    }
   ],
   "source": [
    "import numpy as np\n",
    "rng = np.random.default_rng(616)\n",
    "price = (rng.random(10)).round(1)\n",
    "print(price.sum())\n"
   ]
  },
  {
   "cell_type": "code",
   "execution_count": null,
   "id": "a17486a3-4450-4b30-bde4-b654840876d4",
   "metadata": {},
   "outputs": [],
   "source": []
  }
 ],
 "metadata": {
  "kernelspec": {
   "display_name": "Python 3 (ipykernel)",
   "language": "python",
   "name": "python3"
  },
  "language_info": {
   "codemirror_mode": {
    "name": "ipython",
    "version": 3
   },
   "file_extension": ".py",
   "mimetype": "text/x-python",
   "name": "python",
   "nbconvert_exporter": "python",
   "pygments_lexer": "ipython3",
   "version": "3.12.7"
  }
 },
 "nbformat": 4,
 "nbformat_minor": 5
}
